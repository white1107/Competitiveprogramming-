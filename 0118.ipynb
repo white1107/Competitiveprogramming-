{
 "cells": [
  {
   "cell_type": "markdown",
   "metadata": {},
   "source": [
    "# 2020/01/18"
   ]
  },
  {
   "cell_type": "markdown",
   "metadata": {},
   "source": [
    "# C - 飛行機乗り(Recommendより)\n",
    "https://atcoder.jp/contests/abc030/submissions/me"
   ]
  },
  {
   "cell_type": "code",
   "execution_count": null,
   "metadata": {},
   "outputs": [],
   "source": [
    "from bisect import bisect_left\n",
    "MOD = 10**9 + 7\n",
    "n,m=map(int,input().split())\n",
    "x,y=map(int,input().split())\n",
    "A=list(map(int,input().split()))\n",
    "B=list(map(int,input().split()))\n",
    "t=0\n",
    "ans=0\n",
    "f = 0\n",
    "while t<=A[-1] or t<=B[-1]:\n",
    "    if f == 0:\n",
    "        if t<=A[-1]:\n",
    "            t=A[bisect_left(A,t)]+x\n",
    "            f = 1\n",
    "        else:\n",
    "            break\n",
    "    elif f == 1:\n",
    "        if t<=B[-1]:\n",
    "            t=B[bisect_left(B,t)]+y\n",
    "            ans+=1\n",
    "            f = 0\n",
    "        else:\n",
    "            break\n",
    "print(ans)"
   ]
  },
  {
   "cell_type": "code",
   "execution_count": null,
   "metadata": {},
   "outputs": [],
   "source": [
    "from bisect import bisect_left\n",
    "n,m=map(int,input().split())\n",
    "x,y=map(int,input().split())\n",
    "A=list(map(int,input().split()))\n",
    "B=list(map(int,input().split()))\n",
    "t=0\n",
    "ans=0\n",
    "while t<=A[-1]:#絶対交互に起こるからフラグ建てずに同時に処理したほうがらく\n",
    "    t=A[bisect_left(A,t)]+x\n",
    "    if t<=B[-1]:#最大値と比較するもしくは余分に[∞]などを追加してリストすべて探索したか確認する\n",
    "        t=B[bisect_left(B,t)]+y\n",
    "        ans+=1\n",
    "    else:\n",
    "        break\n",
    "print(ans)"
   ]
  },
  {
   "cell_type": "markdown",
   "metadata": {},
   "source": [
    "# 引越しできるかな？\n",
    "https://atcoder.jp/contests/arc013/tasks/arc013_2"
   ]
  },
  {
   "cell_type": "code",
   "execution_count": null,
   "metadata": {},
   "outputs": [],
   "source": [
    "a = int(input())\n",
    "A = []\n",
    "B = []\n",
    "C = []\n",
    "for i in range(a):\n",
    "    l = list(map(int,input().split()))\n",
    "    l.sort()\n",
    "    A.append(l[0])\n",
    "    B.append(l[1])\n",
    "    C.append(l[2])\n",
    "print(max(A)*max(B)*max(C))\n",
    "    "
   ]
  },
  {
   "cell_type": "code",
   "execution_count": null,
   "metadata": {},
   "outputs": [],
   "source": [
    "n = int(input())\n",
    "x = [[int(i) for i in input().split()] for i in range(n)]\n",
    "a,b,c = 0,0,0\n",
    "for i in x:\n",
    "    i.sort()\n",
    "    a,b,c = max(a,i[0]),max(b,i[1]),max(c,i[2])\n",
    "print(a*b*c)\n"
   ]
  },
  {
   "cell_type": "markdown",
   "metadata": {},
   "source": [
    "# C - Palindromic Matrix\n",
    "https://atcoder.jp/contests/code-festival-2017-quala/tasks/code_festival_2017_quala_c"
   ]
  },
  {
   "cell_type": "code",
   "execution_count": null,
   "metadata": {},
   "outputs": [],
   "source": [
    "from collections import Counter \n",
    "\n",
    "a,b = map(int,input().split())\n",
    "l = ''\n",
    "for i in range(a):\n",
    "    t = input()\n",
    "    l+=t\n",
    "\n",
    "c = Counter(list(l))\n",
    "# print(c)\n",
    "dp = [0,0,0]\n",
    "for i in c:\n",
    "    if c[i]%2 ==1:\n",
    "        dp[0] +=1\n",
    "    elif c[i]%4 == 0:\n",
    "        dp[2] += 1\n",
    "    elif c[i]%2 == 0:\n",
    "        dp[1] += 1\n",
    "# print(dp)\n",
    "ans = 'No'\n",
    "if a%2 ==1 and b%2 ==1:\n",
    "    A = 1\n",
    "    B = (a+b-2)//2\n",
    "    if A >= dp[0] and B >= dp[1]:\n",
    "        ans = 'Yes'\n",
    "elif  a%2 ==0 and b%2 ==0:\n",
    "    A = 0\n",
    "    B= 0\n",
    "    if A >= dp[0] and B >= dp[1]:\n",
    "        ans = 'Yes'\n",
    "elif a%2 ==0 and b%2 ==1:\n",
    "    A = 0\n",
    "    B = a//2\n",
    "    if A >= dp[0] and B >= dp[1]:\n",
    "        ans = 'Yes'\n",
    "else:\n",
    "    A=0\n",
    "    B= b//2\n",
    "    if A >= dp[0] and B >= dp[1]:\n",
    "        ans = 'Yes'\n",
    "print(ans)\n"
   ]
  },
  {
   "cell_type": "code",
   "execution_count": null,
   "metadata": {},
   "outputs": [],
   "source": [
    "from collections import Counter \n",
    "a,b = map(int,input().split())\n",
    "l = ''\n",
    "for i in range(a):\n",
    "    t = input()\n",
    "    l+=t\n",
    "c = Counter(list(l))\n",
    "dp = [0,0,0]\n",
    "for i in c:\n",
    "    if c[i]%2 ==1:\n",
    "        dp[0] +=1\n",
    "    elif c[i]%4 == 0:\n",
    "        dp[2] += 1\n",
    "    elif c[i]%2 == 0:\n",
    "        dp[1] += 1\n",
    "ans = 'No'\n",
    "A = 0\n",
    "if a%2 ==1 and b%2 ==1:\n",
    "    A = 1\n",
    "    B = (a+b-2)//2\n",
    "elif  a%2 ==0 and b%2 ==0:\n",
    "    B= 0\n",
    "elif a%2 ==0 and b%2 ==1:\n",
    "    B = a//2\n",
    "else:\n",
    "    B= b//2\n",
    "if A >= dp[0] and B >= dp[1]:\n",
    "    ans = 'Yes'\n",
    "print(ans)\n"
   ]
  },
  {
   "cell_type": "markdown",
   "metadata": {},
   "source": [
    "# C - コマンド入力\n",
    "https://atcoder.jp/contests/arc002/tasks/arc002_3"
   ]
  },
  {
   "cell_type": "code",
   "execution_count": null,
   "metadata": {},
   "outputs": [],
   "source": [
    "from collections import Counter \n",
    "a = int(input())\n",
    "t = input()+'CDEFGJI'\n",
    "\n",
    "A = t[1:]\n",
    "\n",
    "l =[]\n",
    "L =[]\n",
    "for i in range(0,a+4,2):\n",
    "    l.append(t[i:i+2])\n",
    "    L.append(A[i:i+2])\n",
    "# print(l,L)\n",
    "c = Counter(list(l))\n",
    "d = Counter(list(L))\n",
    "dp = [0,0]\n",
    "rec = [1,1,2,2]\n",
    "# print(c,d)\n",
    "for e,(i,j) in enumerate(zip(c,d)):\n",
    "    dp[0] +=c[i]\n",
    "    dp[1] +=d[j]\n",
    "    if e==1:break\n",
    "if a<4:\n",
    "    print(rec[a])\n",
    "    print()\n",
    "else:       \n",
    "    ans = max(dp)\n",
    "    print(a-ans)\n",
    "    print()"
   ]
  },
  {
   "cell_type": "markdown",
   "metadata": {},
   "source": [
    "上記の解答は先頭から始めたものと１つずらしたもののなかでcounterを取っているけど普通にいみがない"
   ]
  },
  {
   "cell_type": "code",
   "execution_count": null,
   "metadata": {},
   "outputs": [],
   "source": [
    "from itertools import product\n",
    "\n",
    "N = int(input())\n",
    "c = input()\n",
    "\n",
    "command = [''.join(i) for i in product('ABXY', repeat=2)]\n",
    "answer = []\n",
    "# print(command)\n",
    "\n",
    "for i in command:\n",
    "    for j in command:\n",
    "        c1 = c.replace(i, 'L')\n",
    "        c2 = c1.replace(j, 'R')\n",
    "        answer.append(len(c2))\n",
    "\n",
    "print(min(answer))\n"
   ]
  },
  {
   "cell_type": "code",
   "execution_count": null,
   "metadata": {},
   "outputs": [],
   "source": [
    "c=\"ABXY\"\n",
    "a=[i+j for i in c for j in c]\n",
    "input()\n",
    "s=input()\n",
    "print(min(len(s.replace(l,\"L\").replace(r,\"R\"))for l in a for r in a))\n"
   ]
  },
  {
   "cell_type": "code",
   "execution_count": 3,
   "metadata": {},
   "outputs": [
    {
     "data": {
      "text/plain": [
       "[(0, 0),\n",
       " (0, 1),\n",
       " (0, 2),\n",
       " (1, 0),\n",
       " (1, 1),\n",
       " (1, 2),\n",
       " (2, 0),\n",
       " (2, 1),\n",
       " (2, 2),\n",
       " (3, 0),\n",
       " (3, 1),\n",
       " (3, 2),\n",
       " (4, 0),\n",
       " (4, 1),\n",
       " (4, 2)]"
      ]
     },
     "execution_count": 3,
     "metadata": {},
     "output_type": "execute_result"
    }
   ],
   "source": [
    "[(i,j) for i in range(5) for j in range(3)]"
   ]
  },
  {
   "cell_type": "code",
   "execution_count": 10,
   "metadata": {},
   "outputs": [
    {
     "name": "stdout",
     "output_type": "stream",
     "text": [
      "(0, 0) (0, 1) (0, 2) (1, 0) (1, 1) (1, 2) (2, 0) (2, 1) (2, 2)\n"
     ]
    }
   ],
   "source": [
    "print(*[(i,j) for i in range(3) for j in range(3)])"
   ]
  },
  {
   "cell_type": "code",
   "execution_count": 12,
   "metadata": {},
   "outputs": [
    {
     "name": "stdout",
     "output_type": "stream",
     "text": [
      "2\n"
     ]
    }
   ],
   "source": [
    "print(*[min((i**2+j**2) for i in range(1,4) for j in range(1,4))])"
   ]
  },
  {
   "cell_type": "markdown",
   "metadata": {},
   "source": []
  }
 ],
 "metadata": {
  "kernelspec": {
   "display_name": "Python 3",
   "language": "python",
   "name": "python3"
  },
  "language_info": {
   "codemirror_mode": {
    "name": "ipython",
    "version": 3
   },
   "file_extension": ".py",
   "mimetype": "text/x-python",
   "name": "python",
   "nbconvert_exporter": "python",
   "pygments_lexer": "ipython3",
   "version": "3.6.9"
  }
 },
 "nbformat": 4,
 "nbformat_minor": 2
}
