{
 "cells": [
  {
   "cell_type": "markdown",
   "metadata": {},
   "source": [
    "# 2020/01/24"
   ]
  },
  {
   "cell_type": "markdown",
   "metadata": {},
   "source": [
    "# E - Sum Equals Xor\n",
    "https://atcoder.jp/contests/abc129/tasks/abc129_e"
   ]
  },
  {
   "cell_type": "code",
   "execution_count": null,
   "metadata": {},
   "outputs": [],
   "source": [
    "S = input()\n",
    "L = len(S)\n",
    "MOD = 10**9+7\n",
    "\n",
    "dp = [[0]*2 for i in range(L+1)]\n",
    "dp[0][0] = 1\n",
    "\n",
    "for i,c in enumerate(S):\n",
    "    dp[i+1][0] = dp[i][0]*2 if int(c) else dp[i][0]\n",
    "    dp[i+1][1] = dp[i][0] if int(c) else 0\n",
    "    dp[i+1][1] += dp[i][1]*3\n",
    "    dp[i+1][0] %= MOD\n",
    "    dp[i+1][1] %= MOD\n",
    "print(sum(dp[-1])%MOD)\n"
   ]
  },
  {
   "cell_type": "code",
   "execution_count": null,
   "metadata": {},
   "outputs": [],
   "source": [
    "a = input()\n",
    "s = len(a)\n",
    "MOD = 10**9 + 7\n",
    "dp = [0]*100010\n",
    "ep = [0]*100010\n",
    "\n",
    "dp[0] = 1\n",
    "\n",
    "for i in range(s):\n",
    "    ep[i+1]+= 3*ep[i]\n",
    "    if a[i] == '1':\n",
    "        dp[i+1] += 2*dp[i]\n",
    "        ep[i+1] += dp[i]\n",
    "    else:\n",
    "        dp[i+1]+=dp[i]\n",
    "    \n",
    "    ep[i+1]%=MOD\n",
    "    dp[i+1]%=MOD\n",
    "ans = (dp[s]+ep[s])%MOD\n",
    "print(ans)\n"
   ]
  },
  {
   "cell_type": "markdown",
   "metadata": {},
   "source": [
    "# E - League\n",
    "https://atcoder.jp/contests/abc139/submissions/7327742"
   ]
  },
  {
   "cell_type": "code",
   "execution_count": null,
   "metadata": {},
   "outputs": [],
   "source": [
    "import sys\n",
    "from collections import deque\n",
    "input=sys.stdin.readline\n",
    "\n",
    "N=int(input())\n",
    "L=[list(map(lambda x:int(x)-1,input().split())) for _ in range(N)]\n",
    "q=deque(range(N))\n",
    "days=[0]*N\n",
    "pairs=[-1]*N\n",
    "while q:\n",
    "    a=q.popleft()\n",
    "    if len(L[a])==0:continue\n",
    "    b=L[a].pop(0)\n",
    "    if pairs[b]==a:\n",
    "        days[a]=days[b]=max(days[a],days[b])+1\n",
    "        q.append(a);q.append(b)\n",
    "    else:\n",
    "        pairs[a]=b\n",
    "print(max(days) if not any(L)else -1)\n"
   ]
  },
  {
   "cell_type": "code",
   "execution_count": null,
   "metadata": {},
   "outputs": [],
   "source": [
    "from collections import deque\n",
    "a = int(input())\n",
    "l = [] \n",
    "for i in range(a):\n",
    "    tl = list(map(int,input().split()))\n",
    "    tl = list(map(lambda x:x-1 ,tl))\n",
    "    l.append(tl)\n",
    "\n",
    "q = deque((range(a)))\n",
    "days=[0]*a\n",
    "pairs=[-1]*a\n",
    "while q:\n",
    "    x = q.popleft()\n",
    "    if len(l[x]) == 0:continue\n",
    "    y = l[x].pop(0)\n",
    "    if pairs[y] == x:\n",
    "        days[x]=days[y]=max(days[x],days[y])+1\n",
    "        q.append(x)\n",
    "        q.append(y)\n",
    "    else:\n",
    "        pairs[x]=y\n",
    "if not any(l):\n",
    "    print(max(days))\n",
    "else:\n",
    "    print(-1)"
   ]
  },
  {
   "cell_type": "markdown",
   "metadata": {},
   "source": [
    "# E - Virus Tree 2 / \n",
    "https://atcoder.jp/contests/abc133/tasks/abc133_e"
   ]
  },
  {
   "cell_type": "code",
   "execution_count": null,
   "metadata": {},
   "outputs": [],
   "source": [
    "n,k = map(int,input().split())\n",
    "from collections import deque\n",
    "l = [[] for _ in range(n)]\n",
    "for i in range(n-1):\n",
    "    ta,tb = map(int,input().split())\n",
    "    l[ta-1].append(tb-1)\n",
    "    l[tb-1].append(ta-1)\n",
    "c,q = k,deque([0])\n",
    "\n",
    "while q:\n",
    "    v,i = q.pop(),1\n",
    "    for w in l[v]:\n",
    "        c = c*(k-i-(v>0))%(10**9+7)\n",
    "        l[w].remove(v)\n",
    "        q.append(w)\n",
    "        i+=1\n",
    "print(c)\n",
    "\n"
   ]
  },
  {
   "cell_type": "code",
   "execution_count": null,
   "metadata": {},
   "outputs": [],
   "source": []
  },
  {
   "cell_type": "code",
   "execution_count": null,
   "metadata": {},
   "outputs": [],
   "source": []
  }
 ],
 "metadata": {
  "kernelspec": {
   "display_name": "Python 3",
   "language": "python",
   "name": "python3"
  },
  "language_info": {
   "codemirror_mode": {
    "name": "ipython",
    "version": 3
   },
   "file_extension": ".py",
   "mimetype": "text/x-python",
   "name": "python",
   "nbconvert_exporter": "python",
   "pygments_lexer": "ipython3",
   "version": "3.6.9"
  }
 },
 "nbformat": 4,
 "nbformat_minor": 2
}
