{
 "cells": [
  {
   "cell_type": "markdown",
   "metadata": {},
   "source": [
    "# 2020/01/22"
   ]
  },
  {
   "cell_type": "markdown",
   "metadata": {},
   "source": [
    "# C - Brute-force Attack\n",
    "https://atcoder.jp/contests/abc029/submissions/9669524\n",
    "['a','b','c']\n",
    "\n",
    "の組み合わせを表示する問題\n",
    "\n",
    "入力によってループの階層が決まるため再帰で実装"
   ]
  },
  {
   "cell_type": "code",
   "execution_count": null,
   "metadata": {},
   "outputs": [],
   "source": [
    "T = ['a','b','c']\n",
    "a  = int(input())\n",
    "def cal(x,s):\n",
    "    if x == a:\n",
    "        print(s)\n",
    "    else:\n",
    "        for i in T:\n",
    "            cal(x+1,s+i)\n",
    "cal(0,'') "
   ]
  },
  {
   "cell_type": "markdown",
   "metadata": {},
   "source": [
    "itertools を使った解法\n",
    "\"\".join(i)も大事"
   ]
  },
  {
   "cell_type": "code",
   "execution_count": null,
   "metadata": {},
   "outputs": [],
   "source": [
    "from itertools import*\n",
    "for i in product(\"abc\",repeat=int(input())):\n",
    "    print(\"\".join(i))"
   ]
  },
  {
   "cell_type": "markdown",
   "metadata": {},
   "source": [
    "# B - Counting of Trees\n",
    "https://atcoder.jp/contests/nikkei2019-2-qual/tasks/nikkei2019_2_qual_b\n",
    "\n",
    "確認しなければいけない事項\n",
    "1. D1＝０であること\n",
    "2. \n",
    "\n",
    "あと計算中にとても数が大きくなるため%MODを適宜入れてあげる。"
   ]
  },
  {
   "cell_type": "code",
   "execution_count": null,
   "metadata": {},
   "outputs": [],
   "source": [
    "a = int(input())\n",
    "l = list(map(int,input().split()))\n",
    "MOD = 998244353\n",
    "dp = [0]*a\n",
    "for i in l:\n",
    "    dp[i]+=1\n",
    "res = 1\n",
    "# print(dp)\n",
    "if  l[0]!=0:\n",
    "    print(0)\n",
    "    exit()\n",
    "\n",
    "for i in l[1:]:\n",
    "    # print(i)\n",
    "    res*=dp[i-1]\n",
    "    res%=MOD\n",
    "\n",
    "print(res%MOD)"
   ]
  },
  {
   "cell_type": "code",
   "execution_count": null,
   "metadata": {},
   "outputs": [],
   "source": [
    "#8376736\n",
    "n,*d=map(int,open(0).read().split())\n",
    "e=[0]*n\n",
    "for i in d:e[i]+=1\n",
    "a=d[0]<1==e[0]\n",
    "for x,y in zip(e,e[1:]):a=a*x**y%998244353\n",
    "print(a)\n"
   ]
  },
  {
   "cell_type": "markdown",
   "metadata": {},
   "source": [
    "# E - Friendships\n",
    "https://atcoder.jp/contests/abc131/submissions/9673753\n"
   ]
  },
  {
   "cell_type": "code",
   "execution_count": null,
   "metadata": {},
   "outputs": [],
   "source": [
    "a,b = map(int,input().split())\n",
    "\n",
    "S  = (a-1)*(a-2)//2\n",
    "def solve(x,y,s):\n",
    "    print(a+s-y-1)\n",
    "    for i in range(1,a):\n",
    "        print(1,1+i)\n",
    "    c = s-b\n",
    "    for i in range(1,a):\n",
    "        for I in range(i+1,a):\n",
    "            if c > 0:\n",
    "                print(i+1,I+1)\n",
    "                c-=1\n",
    "            else:exit()\n",
    "# print(b,S)\n",
    "if not 0<= b <= S:\n",
    "    print(-1)\n",
    "    exit()\n",
    "else:\n",
    "    solve(a,b,S)\n"
   ]
  }
 ],
 "metadata": {
  "kernelspec": {
   "display_name": "Python 3",
   "language": "python",
   "name": "python3"
  },
  "language_info": {
   "codemirror_mode": {
    "name": "ipython",
    "version": 3
   },
   "file_extension": ".py",
   "mimetype": "text/x-python",
   "name": "python",
   "nbconvert_exporter": "python",
   "pygments_lexer": "ipython3",
   "version": "3.6.9"
  }
 },
 "nbformat": 4,
 "nbformat_minor": 2
}
