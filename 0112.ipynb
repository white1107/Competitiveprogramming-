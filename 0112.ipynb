{
 "cells": [
  {
   "cell_type": "markdown",
   "metadata": {},
   "source": [
    "# 20/01/12"
   ]
  },
  {
   "cell_type": "markdown",
   "metadata": {},
   "source": [
    "https://atcoder.jp/contests/abc151/tasks/abc151_a\n",
    "\n",
    "# A - Next Alphabet\n",
    "入力されたアルファベットの次のものを表示する。\n"
   ]
  },
  {
   "cell_type": "code",
   "execution_count": null,
   "metadata": {},
   "outputs": [],
   "source": [
    "t  =input()\n",
    "a = list('abcdefghijklmnopqrstuvwxyz')\n",
    "t = a.index(t)\n",
    "print(a[t+1])"
   ]
  },
  {
   "cell_type": "markdown",
   "metadata": {},
   "source": [
    "#参考解答"
   ]
  },
  {
   "cell_type": "code",
   "execution_count": 1,
   "metadata": {},
   "outputs": [
    {
     "name": "stdin",
     "output_type": "stream",
     "text": [
      " 4\n"
     ]
    },
    {
     "name": "stdout",
     "output_type": "stream",
     "text": [
      "5\n"
     ]
    }
   ],
   "source": [
    "print(chr(ord(input())+1))"
   ]
  },
  {
   "cell_type": "markdown",
   "metadata": {},
   "source": [
    "# ord()\n",
    "1 文字の Unicode 文字を表す文字列に対し、その文字の Unicode コードポイントを表す整数を返します。例えば、 ord('a') は整数 97 を返し、 ord('€') (ユーロ記号) は 8364 を返します。これは chr() の逆です。\n",
    "\n",
    "### つまりord()を経由することで文字コードに変換し+1することでずらしchrでもとに戻す。"
   ]
  },
  {
   "cell_type": "markdown",
   "metadata": {},
   "source": [
    "# B - Achieve the Goal\n",
    "https://atcoder.jp/contests/abc151/tasks/abc151_b"
   ]
  },
  {
   "cell_type": "code",
   "execution_count": null,
   "metadata": {},
   "outputs": [],
   "source": [
    "#https://atcoder.jp/contests/abc151/tasks/abc151_b\n",
    "\n",
    "a,b,c = map(int,input().split())\n",
    "l = list(map(int,input().split()))\n",
    "S  = sum(l)\n",
    "T = c*a\n",
    "\n",
    "if T-S <= b:\n",
    "    print(max(T-S,0))\n",
    "else:\n",
    "    print(-1)\n"
   ]
  },
  {
   "cell_type": "markdown",
   "metadata": {},
   "source": [
    "# C - Welcome to AtCoder\n",
    "https://atcoder.jp/contests/abc151/tasks/abc151_c\n",
    "\n",
    "AtCoderのペナのシステムを知っていないとミスります（自分）\n",
    "\n",
    "最後行列計算を用いて解決"
   ]
  },
  {
   "cell_type": "code",
   "execution_count": null,
   "metadata": {},
   "outputs": [],
   "source": [
    "a,b = map(int,input().split())\n",
    "dp = [0]*(100010)\n",
    "qp = [0]*(100010)\n",
    "for i in range(b):\n",
    "    ta,tb = map(str,input().split())\n",
    "    ta = int(ta)\n",
    "    if qp[ta] == 0 :\n",
    "        if tb == 'WA':\n",
    "            dp[ta]+=1\n",
    "        else :\n",
    "            qp[ta]=1\n",
    "ANS = 0\n",
    "for i, j in zip(dp,qp):\n",
    "    ANS += i*j\n",
    "print(sum(qp),ANS)\n"
   ]
  },
  {
   "cell_type": "markdown",
   "metadata": {},
   "source": [
    "# D - Maze Master\n",
    "https://atcoder.jp/contests/abc151/tasks/abc151_d\n",
    "\n",
    "グリッドの迷路系問題\n",
    "スタート地点とゴールを任意に決めていいという珍しい問題\n",
    "\n",
    "Nが小さいので全探査"
   ]
  },
  {
   "cell_type": "code",
   "execution_count": null,
   "metadata": {},
   "outputs": [],
   "source": [
    "from collections import deque\n",
    " \n",
    "INF = float('inf')\n",
    "MOD = 10 ** 9 + 7\n",
    "dy = (0, -1, 0, 1)\n",
    "dx = (1, 0, -1, 0)\n",
    "\n",
    "\n",
    "H,W=map(int,input().split())\n",
    "M = []\n",
    "Max_list = []\n",
    "for i  in range(H):\n",
    "    t = input()\n",
    "    M.append(t)\n",
    "dx = [0,0,-1,1]\n",
    "dy = [1,-1,0,0]\n",
    "dist = [[-1]*W for _ in range(H)]\n",
    "q = deque()\n",
    "for i in range(H):\n",
    "    for j in range(W):\n",
    "        dist = [[-1]*W for _ in range(H)]\n",
    "        if M[i][j] == '.':\n",
    "            Ma = 0\n",
    "            q.append((i, j))\n",
    "            dist[i][j] = 0\n",
    "            while q:\n",
    "                cx,cy = q.popleft()\n",
    "                for nx,ny in zip(dx,dy):\n",
    "                    x ,y= cx+nx,cy+ny\n",
    "                    if x<0 or y<0 or x>=H or y>=W or dist[x][y]>0:\n",
    "                        continue\n",
    "                    if M[x][y] == \".\" and dist[x][y] == -1:\n",
    "                        dist[x][y]=dist[cx][cy]+1\n",
    "                        Ma = max(Ma,dist[x][y])\n",
    "                        q.append((x,y))\n",
    "            # print(Ma)\n",
    "            Max_list.append(Ma)\n",
    "# print(Max_list)\n",
    "\n",
    "print(max(Max_list))\n"
   ]
  },
  {
   "cell_type": "code",
   "execution_count": null,
   "metadata": {},
   "outputs": [],
   "source": []
  }
 ],
 "metadata": {
  "kernelspec": {
   "display_name": "Python 3",
   "language": "python",
   "name": "python3"
  },
  "language_info": {
   "codemirror_mode": {
    "name": "ipython",
    "version": 3
   },
   "file_extension": ".py",
   "mimetype": "text/x-python",
   "name": "python",
   "nbconvert_exporter": "python",
   "pygments_lexer": "ipython3",
   "version": "3.6.9"
  }
 },
 "nbformat": 4,
 "nbformat_minor": 2
}
