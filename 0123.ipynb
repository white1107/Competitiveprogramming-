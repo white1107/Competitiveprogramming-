{
 "cells": [
  {
   "cell_type": "markdown",
   "metadata": {},
   "source": [
    "# 2020/01/23"
   ]
  },
  {
   "cell_type": "markdown",
   "metadata": {},
   "source": [
    "# E - Strings of Impurity\n",
    "https://atcoder.jp/contests/abc138/submissions/9682086"
   ]
  },
  {
   "cell_type": "code",
   "execution_count": null,
   "metadata": {},
   "outputs": [],
   "source": [
    "import bisect\n",
    "a = input()\n",
    "b = input()\n",
    "dp = [[] for _ in range(26)]\n",
    "# print(dp)\n",
    "\n",
    "for e,i in enumerate(a):\n",
    "    t=ord(i)-ord('a')\n",
    "    dp[t].append(e)\n",
    "# print(dp)\n",
    "f = 0\n",
    "ans = 0\n",
    "c = 0 \n",
    "for e,i in enumerate(b):\n",
    "    t = ord(i)-ord('a')\n",
    "    if not dp[t]:\n",
    "        print(-1)\n",
    "        exit()\n",
    "    i_i = bisect.bisect_left(dp[t],f)\n",
    "    if len(dp[t])<=i_i:\n",
    "        F = dp[t][0] \n",
    "        ans+=F+1\n",
    "        c +=1\n",
    "    else:\n",
    "        F = dp[t][i_i]\n",
    "        ans += F-f+1\n",
    "    f = F+1\n",
    "    # print(dp[t],f,F,ans)\n",
    "    if e == len(b)-1: ans = c*len(a)+ F+1\n",
    "print(ans)\n"
   ]
  },
  {
   "cell_type": "markdown",
   "metadata": {},
   "source": [
    "# B - 迷子のCDケース \n",
    "https://atcoder.jp/contests/arc007/tasks/arc007_2"
   ]
  },
  {
   "cell_type": "code",
   "execution_count": null,
   "metadata": {},
   "outputs": [],
   "source": [
    "a,b = map(int,input().split())\n",
    "l = list(range(1,a+1))\n",
    "X = 0\n",
    "for i in range(b):\n",
    "    t = int(input())\n",
    "    if X == t:continue\n",
    "    I = l.index(t)\n",
    "    l[I] = X\n",
    "    X = t\n",
    "    # print(t,I,X)\n",
    "for i in l:\n",
    "    print(i) \n"
   ]
  },
  {
   "cell_type": "markdown",
   "metadata": {},
   "source": [
    "# A - 2兆円\n",
    "https://atcoder.jp/contests/arc057/tasks/arc057_a"
   ]
  },
  {
   "cell_type": "code",
   "execution_count": null,
   "metadata": {},
   "outputs": [],
   "source": [
    "a,k = map(int,input().split())\n",
    "motteru = a\n",
    "res = 0\n",
    "if k == 0:\n",
    "    print( 2*(10**12)-a)\n",
    "    exit()\n",
    "while motteru < 2*(10**12):\n",
    "    motteru += motteru*k +1\n",
    "    res +=1\n",
    "\n",
    "print(res)"
   ]
  },
  {
   "cell_type": "code",
   "execution_count": null,
   "metadata": {},
   "outputs": [],
   "source": []
  }
 ],
 "metadata": {
  "kernelspec": {
   "display_name": "Python 3",
   "language": "python",
   "name": "python3"
  },
  "language_info": {
   "codemirror_mode": {
    "name": "ipython",
    "version": 3
   },
   "file_extension": ".py",
   "mimetype": "text/x-python",
   "name": "python",
   "nbconvert_exporter": "python",
   "pygments_lexer": "ipython3",
   "version": "3.6.9"
  }
 },
 "nbformat": 4,
 "nbformat_minor": 2
}
