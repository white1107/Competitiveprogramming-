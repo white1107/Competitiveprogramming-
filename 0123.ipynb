{
 "cells": [
  {
   "cell_type": "markdown",
   "metadata": {},
   "source": [
    "# 2020/01/23"
   ]
  },
  {
   "cell_type": "markdown",
   "metadata": {},
   "source": [
    "# E - Strings of Impurity\n",
    "https://atcoder.jp/contests/abc138/submissions/9682086"
   ]
  },
  {
   "cell_type": "code",
   "execution_count": null,
   "metadata": {},
   "outputs": [],
   "source": [
    "import bisect\n",
    "a = input()\n",
    "b = input()\n",
    "dp = [[] for _ in range(26)]\n",
    "# print(dp)\n",
    "\n",
    "for e,i in enumerate(a):\n",
    "    t=ord(i)-ord('a')\n",
    "    dp[t].append(e)\n",
    "# print(dp)\n",
    "f = 0\n",
    "ans = 0\n",
    "c = 0 \n",
    "for e,i in enumerate(b):\n",
    "    t = ord(i)-ord('a')\n",
    "    if not dp[t]:\n",
    "        print(-1)\n",
    "        exit()\n",
    "    i_i = bisect.bisect_left(dp[t],f)\n",
    "    if len(dp[t])<=i_i:\n",
    "        F = dp[t][0] \n",
    "        ans+=F+1\n",
    "        c +=1\n",
    "    else:\n",
    "        F = dp[t][i_i]\n",
    "        ans += F-f+1\n",
    "    f = F+1\n",
    "    # print(dp[t],f,F,ans)\n",
    "    if e == len(b)-1: ans = c*len(a)+ F+1\n",
    "print(ans)\n"
   ]
  },
  {
   "cell_type": "markdown",
   "metadata": {},
   "source": [
    "# B - 迷子のCDケース \n",
    "https://atcoder.jp/contests/arc007/tasks/arc007_2"
   ]
  },
  {
   "cell_type": "code",
   "execution_count": null,
   "metadata": {},
   "outputs": [],
   "source": [
    "a,b = map(int,input().split())\n",
    "l = list(range(1,a+1))\n",
    "X = 0\n",
    "for i in range(b):\n",
    "    t = int(input())\n",
    "    if X == t:continue\n",
    "    I = l.index(t)\n",
    "    l[I] = X\n",
    "    X = t\n",
    "    # print(t,I,X)\n",
    "for i in l:\n",
    "    print(i) \n"
   ]
  },
  {
   "cell_type": "markdown",
   "metadata": {},
   "source": [
    "# A - 2兆円\n",
    "https://atcoder.jp/contests/arc057/tasks/arc057_a"
   ]
  },
  {
   "cell_type": "code",
   "execution_count": null,
   "metadata": {},
   "outputs": [],
   "source": [
    "a,k = map(int,input().split())\n",
    "motteru = a\n",
    "res = 0\n",
    "if k == 0:\n",
    "    print( 2*(10**12)-a)\n",
    "    exit()\n",
    "while motteru < 2*(10**12):\n",
    "    motteru += motteru*k +1\n",
    "    res +=1\n",
    "\n",
    "print(res)"
   ]
  },
  {
   "cell_type": "markdown",
   "metadata": {},
   "source": [
    "# C - 高橋君の給料\n",
    "https://atcoder.jp/contests/abc021/tasks/abc021_c"
   ]
  },
  {
   "cell_type": "code",
   "execution_count": null,
   "metadata": {},
   "outputs": [],
   "source": [
    "\n",
    "a = int(input())\n",
    "dp = [0]*a\n",
    "ep = [[] for _ in range(a)]\n",
    "for i in range(a-1):\n",
    "    t = int(input())\n",
    "    ep[t-1].append(i+1)\n",
    "def cal(I):\n",
    "    if len(ep[I]) == 0:return 1\n",
    "    m = 10000000000\n",
    "    M = 0\n",
    "    for i in ep[I]:\n",
    "        p = cal(i)\n",
    "        m = min (m,p)\n",
    "        M = max(M,p)\n",
    "    return M+m+1\n",
    "print(cal(0))\n"
   ]
  },
  {
   "cell_type": "markdown",
   "metadata": {},
   "source": [
    "# E - Max GCD\n",
    "https://atcoder.jp/contests/abc136/tasks/abc136_e"
   ]
  },
  {
   "cell_type": "code",
   "execution_count": null,
   "metadata": {},
   "outputs": [],
   "source": [
    "def divisors(N):\n",
    "    U = int(N ** 0.5) + 1\n",
    "    L = [i for i in range(1, U) if N % i == 0]\n",
    "    return L + [N // i for i in reversed(L) if N != i * i]\n",
    "\n",
    "N, K = map(int,input().split())\n",
    "A = list(map(int,input().split()))\n",
    "for d in reversed(divisors(sum(A))):\n",
    "    R = sorted(a % d for a in A)\n",
    "    # print(d,R,-sum(R) // d,sum(R[:-sum(R) // d]))\n",
    "    if sum(R[:-sum(R) // d]) <= K:\n",
    "        print(d)\n",
    "        quit()\n",
    "\n"
   ]
  }
 ],
 "metadata": {
  "kernelspec": {
   "display_name": "Python 3",
   "language": "python",
   "name": "python3"
  },
  "language_info": {
   "codemirror_mode": {
    "name": "ipython",
    "version": 3
   },
   "file_extension": ".py",
   "mimetype": "text/x-python",
   "name": "python",
   "nbconvert_exporter": "python",
   "pygments_lexer": "ipython3",
   "version": "3.6.9"
  }
 },
 "nbformat": 4,
 "nbformat_minor": 2
}
