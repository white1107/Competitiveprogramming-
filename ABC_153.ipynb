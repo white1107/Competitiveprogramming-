{
 "cells": [
  {
   "cell_type": "code",
   "execution_count": null,
   "metadata": {},
   "outputs": [],
   "source": [
    "\n",
    "a , b = map(int,input().split())\n",
    "\n",
    "print(a//b+(a%b!=0))"
   ]
  },
  {
   "cell_type": "code",
   "execution_count": null,
   "metadata": {},
   "outputs": [],
   "source": [
    "a , b = map(int,input().split())\n",
    "l = list(map(int,input().split()))\n",
    "\n",
    "if a <= sum(l):\n",
    "    print('Yes')\n",
    "else:\n",
    "    print('No')\n"
   ]
  },
  {
   "cell_type": "code",
   "execution_count": null,
   "metadata": {},
   "outputs": [],
   "source": [
    "a , b = map(int,input().split())\n",
    "l = list(map(int,input().split()))\n",
    "l.sort()\n",
    "if a<= b:\n",
    "    print(0)\n",
    "elif b == 0:\n",
    "    print(sum(l))\n",
    "else:\n",
    "    print(sum(l[:-b]))"
   ]
  },
  {
   "cell_type": "code",
   "execution_count": null,
   "metadata": {},
   "outputs": [],
   "source": [
    "from math import log2\n",
    "\n",
    "# print(log2(4))\n",
    "def pow_k(x, n):\n",
    "    \"\"\"\n",
    "    O(log n)\n",
    "    \"\"\"\n",
    "    if n == 0:\n",
    "        return 1\n",
    "\n",
    "    K = 1\n",
    "    while n > 1:\n",
    "        if n % 2 != 0:\n",
    "            K *= x\n",
    "        x *= x\n",
    "        n //= 2\n",
    "\n",
    "    return K * x\n",
    "\n",
    "\n",
    "a = int(input())\n",
    "if a ==1:\n",
    "    print(1)\n",
    "    exit()\n",
    "a = int(log2(a))\n",
    "# print(a)\n",
    "\n",
    "res = 4*(pow_k(2,a-1))-1\n",
    "print(res)\n"
   ]
  },
  {
   "cell_type": "markdown",
   "metadata": {},
   "source": [
    "累乗の計算で時間がかかりそうだったのでpowで高速化\n",
    "再帰の方法が検討つかなかったため漸化式を解いた。\n",
    "log2は検索\n",
    "\n"
   ]
  }
 ],
 "metadata": {
  "kernelspec": {
   "display_name": "Python 3",
   "language": "python",
   "name": "python3"
  },
  "language_info": {
   "codemirror_mode": {
    "name": "ipython",
    "version": 3
   },
   "file_extension": ".py",
   "mimetype": "text/x-python",
   "name": "python",
   "nbconvert_exporter": "python",
   "pygments_lexer": "ipython3",
   "version": "3.6.9"
  }
 },
 "nbformat": 4,
 "nbformat_minor": 2
}
