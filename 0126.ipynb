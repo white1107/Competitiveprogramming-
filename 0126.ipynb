{
 "cells": [
  {
   "cell_type": "markdown",
   "metadata": {},
   "source": [
    "# 2020/01/26\n",
    "# E - Handshake\n",
    "https://atcoder.jp/contests/abc149/tasks/abc149_e"
   ]
  },
  {
   "cell_type": "code",
   "execution_count": null,
   "metadata": {},
   "outputs": [],
   "source": [
    "\n",
    "from itertools import accumulate\n",
    "\n",
    "MAX = 2 * 10 ** 5 + 5\n",
    "\n",
    "N,M= map(int,input().split())\n",
    "A = list(map(int,input().split()))\n",
    "\n",
    "B = [0] * MAX\n",
    "for a in A:\n",
    "    B[a] += 1\n",
    "\n",
    "C = list(accumulate(reversed(B)))[::-1]\n",
    "\n",
    "ng, ok = 1, MAX\n",
    "while abs(ok - ng) > 1:\n",
    "    m = (ok + ng) // 2\n",
    "    if sum(C[max(0, m - a)] for a in A) >= M:\n",
    "        ng = m\n",
    "    else:\n",
    "        ok = m\n",
    "\n",
    "D = list(accumulate(reversed(list(i * b for i, b in enumerate(B)))))[::-1]\n",
    "print(sum(D[max(0, ng - a)] - (ng - a) * C[max(0, ng - a)] for a in A) + ng * M)\n"
   ]
  },
  {
   "cell_type": "markdown",
   "metadata": {},
   "source": [
    "## accumulate(累積和)\n",
    "\n",
    "https://docs.python.org/ja/3/library/itertools.html"
   ]
  },
  {
   "cell_type": "code",
   "execution_count": 4,
   "metadata": {},
   "outputs": [
    {
     "data": {
      "text/plain": [
       "<itertools.accumulate at 0x7fb8d83ed2c8>"
      ]
     },
     "execution_count": 4,
     "metadata": {},
     "output_type": "execute_result"
    }
   ],
   "source": [
    "l = [1,2,3,4,5,6]\n",
    "\n",
    "from itertools import accumulate\n",
    "accumulate(l)"
   ]
  },
  {
   "cell_type": "code",
   "execution_count": 5,
   "metadata": {},
   "outputs": [
    {
     "name": "stdout",
     "output_type": "stream",
     "text": [
      "[1, 3, 6, 10, 15, 21]\n"
     ]
    }
   ],
   "source": [
    "# list に戻してあげる必要があり\n",
    "print(list(accumulate(l)))"
   ]
  },
  {
   "cell_type": "code",
   "execution_count": null,
   "metadata": {},
   "outputs": [],
   "source": []
  }
 ],
 "metadata": {
  "kernelspec": {
   "display_name": "Python 3",
   "language": "python",
   "name": "python3"
  },
  "language_info": {
   "codemirror_mode": {
    "name": "ipython",
    "version": 3
   },
   "file_extension": ".py",
   "mimetype": "text/x-python",
   "name": "python",
   "nbconvert_exporter": "python",
   "pygments_lexer": "ipython3",
   "version": "3.6.9"
  }
 },
 "nbformat": 4,
 "nbformat_minor": 2
}
